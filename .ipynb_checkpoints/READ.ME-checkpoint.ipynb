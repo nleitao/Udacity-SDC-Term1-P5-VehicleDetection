{
 "cells": [
  {
   "cell_type": "markdown",
   "metadata": {},
   "source": [
    "# Project 4 - Vehicle Detection and Tracking\n",
    "\n",
    "## Goal:\n",
    "* Create a software pipeline that takes a video as an input and identifies vehicle's location.\n",
    "\n",
    "#### To achieve this goal here are the steps taken:\n",
    "* Perform a Histogram of Oriented Gradients (HOG) feature extraction on a labeled training set of images and train a classifier Linear SVM classifier.\n",
    "\n",
    "* Optionally, you can also apply a color transform and append binned color features, as well as histograms of color, to your HOG feature vector.\n",
    "\n",
    "* Note: for those first two steps don't forget to normalize your features and randomize a selection for training and testing.\n",
    "\n",
    "* Implement a sliding-window technique and use your trained classifier to search for vehicles in images.\n",
    "\n",
    "* Run your pipeline on a video stream (start with the test_video.mp4 and later implement on full project_video.mp4) and create a heat map of recurring detections frame by frame to reject outliers and follow detected vehicles.\n",
    "\n",
    "* Estimate a bounding box for vehicles detected.\n"
   ]
  },
  {
   "cell_type": "markdown",
   "metadata": {
    "collapsed": true
   },
   "source": [
    "## Rubric Points\n",
    "\n",
    "### Here I will consider the rubric points individually and describe how I addressed each point in my implementation.\n",
    "\n"
   ]
  },
  {
   "cell_type": "markdown",
   "metadata": {
    "collapsed": true
   },
   "source": [
    "#### Histogram of Oriented Gradients (HOG)\n",
    "\n",
    "##### 1. Explain how (and identify where in your code) you extracted HOG features from the training images.\n",
    "\n",
    "To extract the features on each training image I've used the function \"extract_features\" developed during the lectures.\n",
    "\n",
    "This function calls \"get_hog_features\" / \"bin_spatial\" and \"color_hist\" and these features, after concatenated represent the features considered for the training.\n",
    "\n",
    "This function/sub-functions were called on a YCrCb color space image, and after trial and error (and also better training accuracy) I've increased the HOG orient parameter to 36, increased the HOG channels to \"ALL\" and kept the other remaining HOG parameters to \"standard values\" (i.e. the ones used in the lectures ppcell=8 and cpblock=2).\n",
    "\n",
    "As stated I've also extracted the color histogram and and spatial binning of each image (although I am not 100% convinced about the additional benefit of the last feature).\n",
    "\n",
    "Here is an example of the HOG features extracted:\n"
   ]
  },
  {
   "cell_type": "markdown",
   "metadata": {
    "collapsed": true
   },
   "source": [
    "##### 2. Explain how you settled on your final choice of HOG parameters.\n",
    "\n",
    "The choice of HOG parameters was a combination of trial and error and also good results with the SVC training (the highest accuracy was achieved when I've tried YCrCb color space, and therefore it was the color space used).\n",
    "\n",
    "On other hand I've chosen a higher than \"standard\" orientations parameters because I believe it gave me a good vehicle detection/false positive ratio later in the predictions stage due to its clear and distinct image features.\n"
   ]
  },
  {
   "cell_type": "markdown",
   "metadata": {
    "collapsed": true
   },
   "source": [
    "##### 3. Describe how (and identify where in your code) you trained a classifier using your selected HOG features (and color features if you used them).\n",
    "\n",
    "I have chosen a Linear SVC for classification and to train this classifier I have used the GTI Vehicle Image Database, KITTI and Udacity Extras image sets provided.\n",
    "\n",
    "Prior training all the above mentioned featured were extracted from the images, scaled (using a StandardScaler) and the inputs/labels were split with a 80%/20% ratio (train/test).\n",
    "\n",
    "I was very pleased with the accuracy of the classifier but a bit concerned regarding the time taken by the training process.\n",
    "\n",
    "Here is the output of the training:\n",
    "\n",
    "\"Using: 36 orientations 8 pixels per cell and 2 cells per block\n",
    "Feature vector length: 21984\n",
    "1128.12 Seconds to train SVC...\n",
    "Test Accuracy of SVC =  0.9943\"\n",
    "\n"
   ]
  },
  {
   "cell_type": "markdown",
   "metadata": {
    "collapsed": true
   },
   "source": [
    "### Sliding Window Search\n",
    "\n",
    "#### 1. Describe how (and identify where in your code) you implemented a sliding window search. How did you decide what scales to search and how much to overlap windows?\n",
    "\n",
    "I've implemented the sliding window search used in the lectures.\n",
    "This function takes in an image as input and initially extracts the HOG features for each channel of the whole image. Later it performs a 64x64 window search where it just refers to the relative position of the HOG features already extracted. I've done two alterations to the original function: 1st the cells_per_step were reduced to 1 so it covers more area of the image (similar to overlap), the other change performed was that this function, in addition of returning an image with boxes drawn around the the positive matches, also returns a list of lists with the position of the positive predictions (i.e. where the classifier believes there's a car), that will be later used in the heat functions to try to reduce false positives and group boxes belonging to the same car.\n"
   ]
  },
  {
   "cell_type": "code",
   "execution_count": null,
   "metadata": {
    "collapsed": true
   },
   "outputs": [],
   "source": [
    "def find_cars(img, ystart, ystop, scale, svc, X_scaler, orient, pix_per_cell, cell_per_block, spatial_size, hist_bins):\n",
    "    box_list=[]\n",
    "    draw_img = np.copy(img)\n",
    "    #img = img.astype(np.float32)/255\n",
    "    \n",
    "    if ystop==None:\n",
    "        ystop=img.shape[1]\n",
    "    \n",
    "    img_tosearch = img[ystart:ystop,:,:]\n",
    "    ctrans_tosearch = convert_color(img_tosearch, conv='RGB2YCrCb')\n",
    "    if scale != 1:\n",
    "        imshape = ctrans_tosearch.shape\n",
    "        ctrans_tosearch = cv2.resize(ctrans_tosearch, (np.int(imshape[1]/scale), np.int(imshape[0]/scale)))\n",
    "        \n",
    "    ch1 = ctrans_tosearch[:,:,0]\n",
    "    ch2 = ctrans_tosearch[:,:,1]\n",
    "    ch3 = ctrans_tosearch[:,:,2]\n",
    "\n",
    "    # Define blocks and steps as above\n",
    "    nxblocks = (ch1.shape[1] // pix_per_cell)-1\n",
    "    nyblocks = (ch1.shape[0] // pix_per_cell)-1 \n",
    "    nfeat_per_block = orient*cell_per_block**2\n",
    "    # 64 was the orginal sampling rate, with 8 cells and 8 pix per cell\n",
    "    window = 64\n",
    "    nblocks_per_window = (window // pix_per_cell)-1 \n",
    "    cells_per_step = 1  # Instead of overlap, define how many cells to step. Original=2\n",
    "    nxsteps = (nxblocks - nblocks_per_window) // cells_per_step\n",
    "    nysteps = (nyblocks - nblocks_per_window) // cells_per_step\n",
    "    \n",
    "    # Compute individual channel HOG features for the entire image\n",
    "    hog1 = get_hog_features(ch1, orient, pix_per_cell, cell_per_block, feature_vec=False)\n",
    "    hog2 = get_hog_features(ch2, orient, pix_per_cell, cell_per_block, feature_vec=False)\n",
    "    hog3 = get_hog_features(ch3, orient, pix_per_cell, cell_per_block, feature_vec=False)\n",
    "    \n",
    "    for xb in range(nxsteps):\n",
    "        for yb in range(nysteps):\n",
    "            ypos = yb*cells_per_step\n",
    "            xpos = xb*cells_per_step\n",
    "            # Extract HOG for this patch\n",
    "            hog_feat1 = hog1[ypos:ypos+nblocks_per_window, xpos:xpos+nblocks_per_window].ravel() \n",
    "            hog_feat2 = hog2[ypos:ypos+nblocks_per_window, xpos:xpos+nblocks_per_window].ravel() \n",
    "            hog_feat3 = hog3[ypos:ypos+nblocks_per_window, xpos:xpos+nblocks_per_window].ravel() \n",
    "            hog_features = np.hstack((hog_feat1, hog_feat2, hog_feat3))\n",
    "\n",
    "            xleft = xpos*pix_per_cell\n",
    "            ytop = ypos*pix_per_cell\n",
    "\n",
    "            # Extract the image patch\n",
    "            subimg = cv2.resize(ctrans_tosearch[ytop:ytop+window, xleft:xleft+window], (64,64))\n",
    "          \n",
    "            # Get color features\n",
    "            \n",
    "            spatial_features = bin_spatial(subimg, size=spatial_size)\n",
    "            \n",
    "            hist_features = color_hist(subimg, nbins=hist_bins)\n",
    "\n",
    "            # Scale features and make a prediction\n",
    "            test_features = X_scaler.transform(np.hstack((spatial_features, hist_features, hog_features)).reshape(1, -1))\n",
    "            \n",
    "            test_prediction = svc.predict(test_features)\n",
    "            \n",
    "            if test_prediction == 1:\n",
    "                xbox_left = np.int(xleft*scale)\n",
    "                ytop_draw = np.int(ytop*scale)\n",
    "                win_draw = np.int(window*scale)\n",
    "                rect_coord=((xbox_left, ytop_draw+ystart),(xbox_left+win_draw,ytop_draw+win_draw+ystart))\n",
    "                cv2.rectangle(draw_img,rect_coord[0],rect_coord[1],(0,0,255),6) \n",
    "                box_list.append(rect_coord)\n",
    "    return draw_img,box_list\n"
   ]
  },
  {
   "cell_type": "markdown",
   "metadata": {
    "collapsed": true
   },
   "source": [
    "### 2. Show some examples of test images to demonstrate how your pipeline is working. What did you do to optimize the performance of your classifier?\n",
    "\n",
    "Here are some examples of a test image where the cars where identified:\n"
   ]
  },
  {
   "cell_type": "markdown",
   "metadata": {
    "collapsed": true
   },
   "source": [
    "#### Video Implementation\n",
    "\n",
    "### 1. Provide a link to your final video output. Your pipeline should perform reasonably well on the entire project video (somewhat wobbly or unstable bounding boxes are ok as long as you are identifying the vehicles most of the time with minimal false positives.)\n",
    "\n",
    "Link: "
   ]
  },
  {
   "cell_type": "markdown",
   "metadata": {
    "collapsed": true
   },
   "source": [
    "#### 2. Describe how (and identify where in your code) you implemented some kind of filter for false positives and some method for combining overlapping bounding boxes.\n",
    "\n",
    "To reduce the false positives and to combine overlapping boxes I've applied a heat map strategy, where after identifying the car's bounding boxes, these positions where sequencially added to a heat map and then thresholded to identify (or to give more confidence to this identification).\n",
    "I then used the label function to make the match of each \"hot zone\"/\"box area\" with a vehicle. The boxes that you see in the video are drawn to cover these \"hot areas\".\n",
    "\n",
    "Here is an example of an image and its corresponding heat map.\n"
   ]
  },
  {
   "cell_type": "markdown",
   "metadata": {
    "collapsed": true
   },
   "source": [
    "#### 1. Briefly discuss any problems / issues you faced in your implementation of this project. Where will your pipeline likely fail? What could you do to make it more robust?\n",
    "\n",
    "First, this project took me roughly 17 hours (and counting) to complete <- major frustration.\n",
    "Besides that, I am again very pleased with the result and with what I've learned.\n",
    "\n",
    "Issues I've faced:\n",
    "-didn't know that a HOG orientation parameter higher than let's say 15, didn't give me a better performance and it was only wasting time during the classifier training. The same with processing every frame, it only wasted time compared with the information gain.\n",
    "\n",
    "To make the pipeline more robust, I believe that it should be able to detect the cars on the other lane. Even though I know that the training data had the rear view of the cars, I was expecting that at least some of the features were similar to the classfier, resulting in more vehicles detected.\n",
    "\n",
    "Finally, and it's common\n",
    "\n"
   ]
  },
  {
   "cell_type": "markdown",
   "metadata": {
    "collapsed": true
   },
   "source": [
    "\n",
    "## Rubric Points\n",
    "\n",
    "### Here I will consider the rubric points individually and describe how I addressed each point in my implementation.\n",
    "\n"
   ]
  },
  {
   "cell_type": "markdown",
   "metadata": {
    "collapsed": true
   },
   "source": [
    "## Rubric Points\n",
    "\n",
    "### Here I will consider the rubric points individually and describe how I addressed each point in my implementation.\n",
    "\n"
   ]
  },
  {
   "cell_type": "code",
   "execution_count": null,
   "metadata": {
    "collapsed": true
   },
   "outputs": [],
   "source": []
  }
 ],
 "metadata": {
  "anaconda-cloud": {},
  "kernelspec": {
   "display_name": "Python [conda env:IntroToTensorFlow]",
   "language": "python",
   "name": "conda-env-IntroToTensorFlow-py"
  },
  "language_info": {
   "codemirror_mode": {
    "name": "ipython",
    "version": 3
   },
   "file_extension": ".py",
   "mimetype": "text/x-python",
   "name": "python",
   "nbconvert_exporter": "python",
   "pygments_lexer": "ipython3",
   "version": "3.5.2"
  }
 },
 "nbformat": 4,
 "nbformat_minor": 1
}
